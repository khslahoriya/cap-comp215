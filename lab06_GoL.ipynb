{
  "cells": [
    {
      "cell_type": "markdown",
      "metadata": {
        "id": "view-in-github",
        "colab_type": "text"
      },
      "source": [
        "<a href=\"https://colab.research.google.com/github/khslahoriya/cap-comp215/blob/main/lab06_GoL.ipynb\" target=\"_parent\"><img src=\"https://colab.research.google.com/assets/colab-badge.svg\" alt=\"Open In Colab\"/></a>"
      ]
    },
    {
      "cell_type": "markdown",
      "metadata": {
        "collapsed": true,
        "pycharm": {
          "name": "#%% md\n"
        },
        "id": "gicCYma1FfOm"
      },
      "source": [
        "COMP 215 - LAB 6 (Game of Life)\n",
        "-----------------------------------------------\n",
        "#### Name: Kunwar\n",
        "#### Date:\n",
        "\n",
        "This lab exercise is an introduction to [Conway's Game of Life](https://en.wikipedia.org/wiki/Conway%27s_Game_of_Life) discovered and studied by [John Conway](https://en.wikipedia.org/wiki/John_Horton_Conway).\n",
        "\n",
        "**New Python concepts**:\n",
        "   * 2D numpy [array](https://numpy.org/doc/stable/reference/generated/numpy.array.html)\n",
        "   * basic [array operations](https://www.pluralsight.com/guides/overview-basic-numpy-operations)\n",
        "\n",
        "**New Computation concepts**:\n",
        "   * [2D sliding dot product](https://docs.scipy.org/doc/scipy/reference/generated/scipy.signal.correlate2d.html)\n",
        "   * [Animation](https://matplotlib.org/stable/api/animation_api.html)\n",
        "\n",
        "**Credits**:\n",
        "    Code examples based on [Think Complexity, 2nd edition](https://thinkcomplex.com).\n",
        "    Copyright 2016 Allen Downey, [MIT License](http://opensource.org/licenses/MIT)\n",
        "\n",
        "As usual, the first code cell simply imports all the modules we'll be using..."
      ]
    },
    {
      "cell_type": "code",
      "execution_count": 122,
      "outputs": [],
      "source": [
        "import time\n",
        "import matplotlib\n",
        "import matplotlib.pyplot as plt\n",
        "from matplotlib import animation\n",
        "import numpy as np\n",
        "from scipy.signal import correlate2d\n",
        "\n",
        "%matplotlib inline\n",
        "# Configure matplotlib's animation library to work in the browser.\n",
        "matplotlib.rc('animation', html='jshtml')"
      ],
      "metadata": {
        "pycharm": {
          "name": "#%%\n"
        },
        "ExecuteTime": {
          "end_time": "2024-01-06T00:59:30.713969Z",
          "start_time": "2024-01-06T00:59:29.426998Z"
        },
        "id": "CVufZO13FfOo"
      }
    },
    {
      "cell_type": "markdown",
      "source": [
        "A reusable function for plotting 2D numpy.array as an image..."
      ],
      "metadata": {
        "collapsed": false,
        "pycharm": {
          "name": "#%% md\n"
        },
        "id": "-u0TQo-nFfOp"
      }
    },
    {
      "cell_type": "code",
      "execution_count": 123,
      "outputs": [],
      "source": [
        "def plot_2d_array(array, axes=None, title='', cmap='Blues', **options):\n",
        "    \"\"\"\n",
        "    Plot the 2D array as an image on the given axes  1's will be dark blue, 0's will be light blue.\n",
        "\n",
        "    :param axes: the axes to plot on, or None to use the `plt.gca()` (current axes)\n",
        "    :param options: keyword arguments passed directly to `plt.imshow()`\n",
        "           see https://matplotlib.org/stable/api/_as_gen/matplotlib.axes.Axes.imshow.html\n",
        "    \"\"\"\n",
        "    axes = axes or plt.gca()  # If not axes are provided, draw on current axes\n",
        "    axes.set_title(title)\n",
        "    # Turn off axes labels and tick marks\n",
        "    axes.tick_params(axis='both', which='both', bottom=False, top=False, left=False, right=False ,\n",
        "                     labelbottom=False, labeltop=False, labelleft=False, labelright=False,)\n",
        "    # Defaults for displaying a \"matrix\" with hard-pixel boundaries and (0,0) at top-left\n",
        "    options = {**dict(interpolation='nearest', origin='upper'), **options}\n",
        "    axes.imshow(array, cmap=cmap, **options)"
      ],
      "metadata": {
        "pycharm": {
          "name": "#%%\n"
        },
        "ExecuteTime": {
          "end_time": "2024-01-06T00:59:30.719129Z",
          "start_time": "2024-01-06T00:59:30.716251Z"
        },
        "id": "PdhqgZlWFfOp"
      }
    },
    {
      "cell_type": "markdown",
      "source": [
        "## Life Fundamentals\n",
        "Both the textbook and our week6 notebooks develop some fundamental operations for simulating the Game of Life.\n",
        "Some of the code from `week6.ipynb` is reproduced here without deriving all the ideas - review `week6.ipynb` notebook for the full story.\n",
        "The sliding dot product algorithm in `step` is implemented with [scipy.signal.correlate2d](https://docs.scipy.org/doc/scipy/reference/generated/scipy.signal.correlate2d.html).  It's behaviour is identical to the derivation in `week6.ipynb`.\n",
        "\n",
        "#### Notes\n",
        "* we use `correlate2d(state, kernel, mode='same', boundary='wrap')` to pad state matrix with 1 value around perimeter from the opposite side of the matrix.\n",
        "* since the rule is a 1D `np.array`, we use \"vector indexing\" here to set the 'live' state transitions:  `next_state[[3, 12, 13]] = 1`"
      ],
      "metadata": {
        "collapsed": false,
        "pycharm": {
          "name": "#%% md\n"
        },
        "id": "cD70tq7eFfOp"
      }
    },
    {
      "cell_type": "code",
      "execution_count": 124,
      "outputs": [],
      "source": [
        "class Life2D:\n",
        "    \"\"\" An basic 2D Cellular Automata that implementes Conway's Game of Life \"\"\"\n",
        "    kernel = np.array([[1, 1, 1],\n",
        "                       [1, 10, 1],\n",
        "                       [1, 1, 1]])\n",
        "\n",
        "    next_state = np.zeros(19, dtype=np.uint8)\n",
        "    next_state[[3, 12, 13]] = 1\n",
        "\n",
        "    def __init__(self, n_rows, n_cols=None):\n",
        "        \"\"\" Construct a n_rows x n_cols 2D CA \"\"\"\n",
        "        n_cols = n_cols or n_rows  # i.e., n_cols if n_cols is not None and n_cols != 0 else n_rows\n",
        "        self.state = np.zeros(shape=(n_rows, n_cols), dtype=np.uint8)\n",
        "\n",
        "    def step(self):\n",
        "        \"\"\"Executes one time step. \"\"\"\n",
        "        transitions = correlate2d(self.state, self.kernel, mode='same', boundary='wrap')\n",
        "        self.state = self.next_state[transitions]\n",
        "\n",
        "    def draw(self, axes=None, step=''):\n",
        "        axes = axes or plt.gca()   # use pyplot's current axes if none are provided.\n",
        "        plot_2d_array(self.state, axes, title=f\"Conway's Game of Life {step}\")"
      ],
      "metadata": {
        "pycharm": {
          "name": "#%%\n"
        },
        "ExecuteTime": {
          "end_time": "2024-01-06T00:59:30.722229Z",
          "start_time": "2024-01-06T00:59:30.719978Z"
        },
        "id": "B7BRHmqHFfOq"
      }
    },
    {
      "cell_type": "markdown",
      "source": [
        "### Visualizing a 2D simulation model\n",
        "For 1D CAs, we could use a 2D image to visualize the CA progression over time.\n",
        "For 2D CAs, we could try using time as a 3rd axis to generate a 3D visualziation, but without VR, its hard to explore a 3D visualization.\n",
        "Instead, we'll use a simple 2D [\"stop motion\" animation](https://en.wikipedia.org/wiki/Animation).\n",
        "Here is a generic class that animates any 2D model that provides step() and draw() methods, and uses matplotlib to render its state.\n",
        "\n",
        "See [Matplotlib animation in Jupyter](https://www.allendowney.com/blog/2019/07/25/matplotlib-animation-in-jupyter/) by our textbook author for a discussion of the pros and cons of various animation techniques in jupyter notebooks."
      ],
      "metadata": {
        "collapsed": false,
        "pycharm": {
          "name": "#%% md\n"
        },
        "id": "SFXGjTA6FfOq"
      }
    },
    {
      "cell_type": "code",
      "execution_count": 125,
      "outputs": [],
      "source": [
        "class Animation2D:\n",
        "    \"\"\"\n",
        "      Animates any 2D model with a step() method and a draw() method, using matplotlib\n",
        "      model.step() should take no parameters - just step the model forward one step.\n",
        "      model.draw() should take 2 parameters, the matpltolib axes to draw on and an integer step number\n",
        "    \"\"\"\n",
        "\n",
        "    def __init__(self, model, frames=50, figsize=(8, 8)):\n",
        "        \"\"\"\n",
        "        :param model: the simulation object to animate, with step() and draw(axes, step) methods\n",
        "        :param frames: number of animation frames to generate\n",
        "        \"\"\"\n",
        "        self.model = model\n",
        "        self.frames = frames\n",
        "        self.fig, self.ax = plt.subplots(figsize=figsize)\n",
        "\n",
        "    def animation_step(self, step):\n",
        "        \"\"\" Step the model forward and draw the plot \"\"\"\n",
        "        if step > 0:\n",
        "            self.model.step()\n",
        "        self.model.draw(self.ax, step=step)\n",
        "\n",
        "    def show(self):\n",
        "        \"\"\" return the matplotlib animation object, ready for display \"\"\"\n",
        "        anim = animation.FuncAnimation(self.fig, self.animation_step, frames=self.frames)\n",
        "        plt.close()  # this ensures the last frame is not shown as a separate plot\n",
        "        return anim\n",
        "\n",
        "    def animate(self, interval=None):\n",
        "        \"\"\" Animate the model simulation directly in the notebook display block \"\"\"\n",
        "        from IPython.display import clear_output\n",
        "        try:\n",
        "            for i in range(self.frames):\n",
        "                clear_output(wait=True)  # clear the IPython display\n",
        "                self.ax.clear()          # clear old image from the axes (fixes a performance issue)\n",
        "                plt.figure(self.fig)     # add the figure back to pyplot ** sigh **\n",
        "                self.animation_step(i)\n",
        "                plt.show()               # show the current animation frame (pyplot then closes and throws away figure ** sigh **)\n",
        "                if interval:\n",
        "                    time.sleep(interval)\n",
        "        except KeyboardInterrupt:\n",
        "            pass"
      ],
      "metadata": {
        "pycharm": {
          "name": "#%%\n"
        },
        "ExecuteTime": {
          "end_time": "2024-01-06T00:59:30.727443Z",
          "start_time": "2024-01-06T00:59:30.724530Z"
        },
        "id": "5MeEehi6FfOq"
      }
    },
    {
      "cell_type": "markdown",
      "source": [
        "### Sample usage\n",
        "Animate a single glider..."
      ],
      "metadata": {
        "collapsed": false,
        "pycharm": {
          "name": "#%% md\n"
        },
        "id": "sXNL8NeFFfOq"
      }
    },
    {
      "cell_type": "code",
      "execution_count": 115,
      "outputs": [
        {
          "output_type": "display_data",
          "data": {
            "text/plain": [
              "<Figure size 800x800 with 1 Axes>"
            ],
            "image/png": "[encoded data removed]"
          },
          "metadata": {}
        }
      ],
      "source": [
        "size = 10\n",
        "life = Life2D(size)\n",
        "glider = np.array([[0, 1, 0], [0, 0, 1], [1, 1, 1]], dtype=np.uint8)\n",
        "life.state[1:4, 2:5] = glider             # bad idea to alter an objects state directly!  We'll improve it in Ex. 3\n",
        "gol = Animation2D(life, frames=20)\n",
        "gol.animate()"
      ],
      "metadata": {
        "pycharm": {
          "name": "#%%\n"
        },
        "id": "frjHXVo9FfOq",
        "outputId": "88f4ada8-f5d5-4c67-f4e9-5d3847b81135",
        "colab": {
          "base_uri": "https://localhost:8080/",
          "height": 675
        }
      }
    },
    {
      "cell_type": "markdown",
      "source": [
        "## Exercise 1:  Enumerate all Elementary 2D CA's\n",
        "Write a line or 2 of code to compute and print the answer for each question:\n",
        "* how many unique states are there for a 3x3 (9 cell) neighbourhood?\n",
        "\n",
        "There are 2^(3*3)= 2^9 =512 unique states for a 3x3 (9 cell) neighborhood, as each cell can be in one of two states (alive or dead), and there are 9 cells in the neighborhood.\n",
        "* how many unique “rules” are there? (where a rule provides a mapping for each possible neighbourhood state to the output for the centre cell)\n",
        "\n",
        "For each neighborhood state (512 possible states), there are 2 possible outcomes (the center cell can be alive or dead). Therefore, there are 2^512 unique rules for a 3x3 neighborhood.\n",
        "* how does this number compare, for example, to the [number of atoms in the observable universe?](https://en.wikipedia.org/wiki/Observable_universe#Matter_content%E2%80%94number_of_atoms)\n",
        "\n",
        "The estimated number of atoms in the observable universe is about 10^80 . The number of unique rules for a 3x3 neighborhood ( 2^512 ) is astronomically larger than the number of atoms in the observable universe."
      ],
      "metadata": {
        "collapsed": false,
        "id": "tYwGvomgFfOr"
      }
    },
    {
      "cell_type": "code",
      "execution_count": 116,
      "outputs": [
        {
          "output_type": "execute_result",
          "data": {
            "text/plain": [
              "100000000000000000000000000000000000000000000000000000000000000000000000000000000"
            ]
          },
          "metadata": {},
          "execution_count": 116
        }
      ],
      "source": [
        "# Ex. 1 your code here...\n",
        "unique_states = 2**(3*3)\n",
        "unique_states\n",
        "\n",
        "unique_rules = 2**unique_states\n",
        "unique_rules\n",
        "\n",
        "atoms_in_universe = 10**80\n",
        "atoms_in_universe\n"
      ],
      "metadata": {
        "pycharm": {
          "name": "#%%\n"
        },
        "ExecuteTime": {
          "end_time": "2024-01-06T00:59:32.380370Z",
          "start_time": "2024-01-06T00:59:32.378662Z"
        },
        "id": "HThYdKecFfOr",
        "colab": {
          "base_uri": "https://localhost:8080/"
        },
        "outputId": "7093f888-362e-405f-e0b7-fb111d7056d8"
      }
    },
    {
      "cell_type": "markdown",
      "source": [
        "Using what you learned above, concisely answer each question below (point form)1\n",
        "1. would it be a reasonable goal to conduct an experiment like Wolfram’s for 2D CA’s?\n",
        "2. propose a numbering scheme for these rules, analogous to Wolfram’s rule numbers\n",
        "3. how might we go about determining which rule number corresponds to Conway’s GoL?\n",
        "   (I’m not asking for the number, but rather for a method you could use to find it.)"
      ],
      "metadata": {
        "collapsed": false,
        "pycharm": {
          "name": "#%% md\n"
        },
        "id": "chPn-F7eFfOr"
      }
    },
    {
      "cell_type": "markdown",
      "source": [
        "#### Ex 1. Your Answers\n",
        "\n",
        "1. I think conducting an experiment like Wolfram’s for 2D CA’s would be highly impractical due to a huge number of unique rules, which makes it difficult to explore and categorize them all.\n",
        "2. . A numbering scheme for these rules could involve assigning each rule a unique identifier based on the binary representation of its outcomes for all possible neighborhood states, similar to Wolfram’s rule numbers.\n",
        "3. . To find the rule number that makes a pattern like Conway's Game of Life, we try lots of rules on a starting pattern that looks like a glider in GoL. We then see which rule makes patterns that look most like GoL's patterns. That rule is probably the one for Conway's GoL."
      ],
      "metadata": {
        "collapsed": false,
        "id": "KwMWaREtFfOs"
      }
    },
    {
      "cell_type": "markdown",
      "source": [
        "## Exercise 2: random_life\n",
        "Extend the Life2D class defined above to allow the game to be initialized with a random start state.\n",
        "The liklihood of any given cell being initialized to \"alive\" is given by $p$.\n",
        "*Hint*: we did this exact exercise for a 1D array in previous lab"
      ],
      "metadata": {
        "collapsed": false,
        "pycharm": {
          "name": "#%% md\n"
        },
        "id": "BsEVO4G-FfOs"
      }
    },
    {
      "cell_type": "code",
      "execution_count": 117,
      "outputs": [],
      "source": [
        "# Ex. 2 experimental setup\n",
        "\n",
        "class BetterLife2D(Life2D):\n",
        "    \"\"\" Improvements on the basic Life2D model \"\"\"\n",
        "\n",
        "    def randomize_state(self, p):\n",
        "        \"\"\" Randomize the state of this GoL, where probability of a \"live\" cell is p \"\"\"\n",
        "        # Ex. 2 your code here...\n",
        "        self.state = np.random.choice([0, 1], size=self.state.shape, p=[1-p, p]) #alike to lab5\n",
        "\n",
        "\n",
        "def random_life(n_rows, n_cols=None, p=0.5):\n",
        "    \"\"\" Return a Life2D object of given dimensions with initial randomized state where \"live\" cells have probability p \"\"\"\n",
        "    # Ex. 2 your code here...\n",
        "    n_cols = n_cols or n_rows\n",
        "    life = BetterLife2D(n_rows, n_cols)\n",
        "    life.randomize_state(p)\n",
        "    return life\n"
      ],
      "metadata": {
        "pycharm": {
          "name": "#%%\n"
        },
        "ExecuteTime": {
          "end_time": "2024-01-06T00:59:32.383669Z",
          "start_time": "2024-01-06T00:59:32.381110Z"
        },
        "id": "E56P_GBvFfOs"
      }
    },
    {
      "cell_type": "markdown",
      "source": [
        "### Experiment\n",
        "Run a small experiment to see if you can identify any relationship between $p$, the probability of a live cell in the initial grid, and the time it takes for the GoL pattern to stabilize."
      ],
      "metadata": {
        "collapsed": false,
        "pycharm": {
          "name": "#%% md\n"
        },
        "id": "bV6O7tkyFfOt"
      }
    },
    {
      "cell_type": "code",
      "execution_count": 118,
      "outputs": [
        {
          "output_type": "stream",
          "name": "stdout",
          "text": [
            "Probability p=0.8: Stabilization time = 2 steps\n",
            "Probability p=0.9: Stabilization time = 2 steps\n"
          ]
        }
      ],
      "source": [
        "# Ex. 2 write code for your experiment here...\n",
        "#Range of probabilities to test\n",
        "probabilities = [0.1, 0.2, 0.3, 0.4, 0.5, 0.6, 0.7, 0.8, 0.9]\n",
        "\n",
        "stabilization_times = {}\n",
        "\n",
        "stabilization_steps = 10\n",
        "\n",
        "def run_experiment():\n",
        "    for p in probabilities:\n",
        "        # Initialize a random Life2D object with given probability\n",
        "        life = random_life(n_rows=50, n_cols=50, p=p)\n",
        "\n",
        "        # Perform steps until stabilization\n",
        "        for step in range(stabilization_steps):\n",
        "            life.step()\n",
        "            current_state = life.state\n",
        "\n",
        "            # Check if the state has stabilized\n",
        "            if step > 0 and np.array_equal(current_state, previous_state):\n",
        "                stabilization_times[p] = step\n",
        "                print(f\"Probability p={p}: Stabilization time = {step} steps\")\n",
        "                break\n",
        "\n",
        "            previous_state = current_state.copy()\n",
        "\n",
        "run_experiment()"
      ],
      "metadata": {
        "pycharm": {
          "name": "#%%\n"
        },
        "ExecuteTime": {
          "end_time": "2024-01-06T00:59:32.386367Z",
          "start_time": "2024-01-06T00:59:32.383563Z"
        },
        "id": "A6nB1S0kFfOt",
        "colab": {
          "base_uri": "https://localhost:8080/"
        },
        "outputId": "14bc9110-07b8-41d5-9b70-7322971fb1d8"
      }
    },
    {
      "cell_type": "markdown",
      "source": [
        "## Exercise 3: Load Patterns\n",
        "People have discovered many interesting [\"patterns\"](https://conwaylife.com/wiki/Category:Patterns) that exhibit various types of behaviours.\n",
        "A \"pattern\" is just a small 2D array.\n",
        " 1. Develop a function that returns a 2D array containing the patterns defined by a single string; and\n",
        " 2. Add a `load_pattern(x, y, pattern)` method to your `BetterLife2D` class above to insert patterns into the Life state array\n",
        "    *Tip*: you can [assign an entire 2D slice of a numpy array](https://www.nickmccullum.com/advanced-python/numpy-indexing-assignment/) in a single assignment statement!   See example in the Sample Usage block above. Try it!"
      ],
      "metadata": {
        "collapsed": false,
        "pycharm": {
          "name": "#%% md\n"
        },
        "id": "7IIR4sM3FfOt"
      }
    },
    {
      "cell_type": "code",
      "execution_count": 119,
      "outputs": [
        {
          "output_type": "execute_result",
          "data": {
            "text/plain": [
              "array([[0, 0, 0, 0, 0, 0, 0, 0, 0, 0],\n",
              "       [0, 0, 0, 0, 0, 0, 0, 0, 0, 0],\n",
              "       [0, 0, 1, 0, 0, 0, 0, 0, 0, 0],\n",
              "       [0, 1, 0, 1, 0, 0, 0, 0, 0, 0],\n",
              "       [0, 0, 0, 0, 0, 0, 0, 0, 0, 0],\n",
              "       [0, 0, 0, 0, 0, 0, 0, 0, 0, 0],\n",
              "       [0, 0, 0, 0, 0, 0, 0, 0, 0, 0],\n",
              "       [0, 0, 0, 0, 0, 0, 0, 0, 0, 0],\n",
              "       [0, 0, 0, 0, 0, 0, 0, 0, 0, 0],\n",
              "       [0, 0, 0, 0, 0, 0, 0, 0, 0, 0]], dtype=uint8)"
            ],
            "text/html": [
              "<style>\n",
              "      .ndarray_repr .ndarray_raw_data {\n",
              "        display: none;\n",
              "      }\n",
              "      .ndarray_repr.show_array .ndarray_raw_data {\n",
              "        display: block;\n",
              "      }\n",
              "      .ndarray_repr.show_array .ndarray_image_preview {\n",
              "        display: none;\n",
              "      }\n",
              "      </style>\n",
              "      <div id=\"id-9c858e94-d996-40aa-bb1f-4b4b59d8cf8d\" class=\"ndarray_repr\"><pre>ndarray (10, 10) <button style=\"padding: 0 2px;\">show data</button></pre><img src=\"data:image/png;base64,iVBORw0KGgoAAAANSUhEUgAAAAoAAAAKCAAAAACoWZBhAAAAE0lEQVR4nGNgwAEYkViMuBSRCgABVwAEdcVoAAAAAABJRU5ErkJggg==\" class=\"ndarray_image_preview\" /><pre class=\"ndarray_raw_data\">array([[0, 0, 0, 0, 0, 0, 0, 0, 0, 0],\n",
              "       [0, 0, 0, 0, 0, 0, 0, 0, 0, 0],\n",
              "       [0, 0, 1, 0, 0, 0, 0, 0, 0, 0],\n",
              "       [0, 1, 0, 1, 0, 0, 0, 0, 0, 0],\n",
              "       [0, 0, 0, 0, 0, 0, 0, 0, 0, 0],\n",
              "       [0, 0, 0, 0, 0, 0, 0, 0, 0, 0],\n",
              "       [0, 0, 0, 0, 0, 0, 0, 0, 0, 0],\n",
              "       [0, 0, 0, 0, 0, 0, 0, 0, 0, 0],\n",
              "       [0, 0, 0, 0, 0, 0, 0, 0, 0, 0],\n",
              "       [0, 0, 0, 0, 0, 0, 0, 0, 0, 0]], dtype=uint8)</pre></div><script>\n",
              "      (() => {\n",
              "      const titles = ['show data', 'hide data'];\n",
              "      let index = 0\n",
              "      document.querySelector('#id-9c858e94-d996-40aa-bb1f-4b4b59d8cf8d button').onclick = (e) => {\n",
              "        document.querySelector('#id-9c858e94-d996-40aa-bb1f-4b4b59d8cf8d').classList.toggle('show_array');\n",
              "        index = (++index) % 2;\n",
              "        document.querySelector('#id-9c858e94-d996-40aa-bb1f-4b4b59d8cf8d button').textContent = titles[index];\n",
              "        e.preventDefault();\n",
              "        e.stopPropagation();\n",
              "      }\n",
              "      })();\n",
              "    </script>"
            ]
          },
          "metadata": {},
          "execution_count": 119
        }
      ],
      "source": [
        "def pattern_from_string(pattern_string):\n",
        "    return np.array([[int(char) for char in line.strip()] for line in pattern_string.strip().split('\\n')])\n",
        "\n",
        "class BetterLife2D(Life2D):\n",
        "    def load_pattern(self, x, y, pattern):\n",
        "        height, width = pattern.shape\n",
        "        self.state[x:x+height, y:y+width] = pattern\n",
        "\n",
        "# Example usage\n",
        "my_pattern = \\\n",
        "    \"\"\"\n",
        "    000\n",
        "    010\n",
        "    101\n",
        "    \"\"\"\n",
        "\n",
        "glider_array = pattern_from_string(my_pattern)\n",
        "life = BetterLife2D(n_rows=10, n_cols=10)\n",
        "life.load_pattern(1, 1, glider_array)\n",
        "life.state"
      ],
      "metadata": {
        "pycharm": {
          "name": "#%%\n"
        },
        "ExecuteTime": {
          "end_time": "2024-01-06T00:59:32.388974Z",
          "start_time": "2024-01-06T00:59:32.385536Z"
        },
        "id": "Yjx6kibgFfOt",
        "colab": {
          "base_uri": "https://localhost:8080/",
          "height": 54
        },
        "outputId": "730bcff1-bae2-4d1b-a75a-7eaccbcd7acb"
      }
    },
    {
      "cell_type": "markdown",
      "source": [
        "### Define some patterns\n",
        "User your nifty new function to define a few common, interesting patterns (e.g., from the book or other sources)"
      ],
      "metadata": {
        "collapsed": false,
        "pycharm": {
          "name": "#%% md\n"
        },
        "id": "mm3GGPvxFfOt"
      }
    },
    {
      "cell_type": "code",
      "execution_count": 120,
      "outputs": [
        {
          "output_type": "stream",
          "name": "stdout",
          "text": [
            "[[0 1 0]\n",
            " [0 1 0]\n",
            " [0 1 0]]\n",
            "[[1 1 0 0]\n",
            " [1 1 0 0]\n",
            " [0 0 1 1]\n",
            " [0 0 1 1]]\n",
            "[[0 1 0 0 1]\n",
            " [1 0 0 0 0]\n",
            " [1 0 0 0 1]\n",
            " [1 1 1 1 0]]\n"
          ]
        }
      ],
      "source": [
        "# Ex. 3 define your patterns here...\n",
        "blinker_pattern = \\\n",
        "    \"\"\"\n",
        "    010\n",
        "    010\n",
        "    010\n",
        "    \"\"\"\n",
        "blinker_array = pattern_from_string(blinker_pattern)\n",
        "\n",
        "beacon_pattern = \\\n",
        "    \"\"\"\n",
        "    1100\n",
        "    1100\n",
        "    0011\n",
        "    0011\n",
        "    \"\"\"\n",
        "beacon_array = pattern_from_string(beacon_pattern)\n",
        "\n",
        "lwss_pattern = \\\n",
        "    \"\"\"\n",
        "    01001\n",
        "    10000\n",
        "    10001\n",
        "    11110\n",
        "    \"\"\"\n",
        "lwss_array = pattern_from_string(lwss_pattern)\n",
        "\n",
        "print(blinker_array)\n",
        "print(beacon_array)\n",
        "print(lwss_array)"
      ],
      "metadata": {
        "pycharm": {
          "name": "#%%\n"
        },
        "ExecuteTime": {
          "end_time": "2024-01-06T00:59:32.389471Z",
          "start_time": "2024-01-06T00:59:32.387944Z"
        },
        "id": "BSMgxIKaFfOt",
        "colab": {
          "base_uri": "https://localhost:8080/"
        },
        "outputId": "285f0ff6-2927-42ae-8596-e85dddbee6c0"
      }
    },
    {
      "cell_type": "markdown",
      "source": [
        "### Experiment\n",
        "Load up a BetterLife2D object with some patterns that interact in some interesting way.\n",
        "What can we learn from studying interactions like this?   Is anything here applicable to the real world?\n",
        "\n",
        "ANS - Well I believe studying interactions like this can treach us many things such as the effect of one pattern on the other and also it can explain about the behaviours of various patterns which can further teach us about the oscillations or stabalization in the patterns.\n",
        "\n",
        "This is applicable in real world also as this can tecah us about the various patterns in almost all scientific fields like it can tell about crystal patterns for physics, bacteria colony patterns for biology, image processing in computer science and urban planning patterns in sociology."
      ],
      "metadata": {
        "collapsed": false,
        "pycharm": {
          "name": "#%% md\n"
        },
        "id": "tjYISxdDFfOu"
      }
    },
    {
      "cell_type": "code",
      "execution_count": 121,
      "outputs": [
        {
          "output_type": "stream",
          "name": "stdout",
          "text": [
            "Step 1:\n",
            "[[0 0 0 0 0 0 0 0 0 0]\n",
            " [0 0 0 0 0 0 0 0 0 0]\n",
            " [0 1 1 1 0 0 0 0 0 0]\n",
            " [0 0 0 0 0 0 0 0 0 0]\n",
            " [0 0 0 0 0 0 0 0 0 0]\n",
            " [0 0 0 0 0 1 1 0 0 0]\n",
            " [0 0 0 0 0 1 0 0 0 0]\n",
            " [0 0 0 0 0 0 0 0 1 0]\n",
            " [0 0 0 0 0 0 0 1 1 0]\n",
            " [0 0 0 0 0 0 0 0 0 0]]\n",
            "\n",
            "Step 2:\n",
            "[[0 0 0 0 0 0 0 0 0 0]\n",
            " [0 0 1 0 0 0 0 0 0 0]\n",
            " [0 0 1 0 0 0 0 0 0 0]\n",
            " [0 0 1 0 0 0 0 0 0 0]\n",
            " [0 0 0 0 0 0 0 0 0 0]\n",
            " [0 0 0 0 0 1 1 0 0 0]\n",
            " [0 0 0 0 0 1 1 0 0 0]\n",
            " [0 0 0 0 0 0 0 1 1 0]\n",
            " [0 0 0 0 0 0 0 1 1 0]\n",
            " [0 0 0 0 0 0 0 0 0 0]]\n",
            "\n",
            "Step 3:\n",
            "[[0 0 0 0 0 0 0 0 0 0]\n",
            " [0 0 0 0 0 0 0 0 0 0]\n",
            " [0 1 1 1 0 0 0 0 0 0]\n",
            " [0 0 0 0 0 0 0 0 0 0]\n",
            " [0 0 0 0 0 0 0 0 0 0]\n",
            " [0 0 0 0 0 1 1 0 0 0]\n",
            " [0 0 0 0 0 1 0 0 0 0]\n",
            " [0 0 0 0 0 0 0 0 1 0]\n",
            " [0 0 0 0 0 0 0 1 1 0]\n",
            " [0 0 0 0 0 0 0 0 0 0]]\n",
            "\n",
            "Step 4:\n",
            "[[0 0 0 0 0 0 0 0 0 0]\n",
            " [0 0 1 0 0 0 0 0 0 0]\n",
            " [0 0 1 0 0 0 0 0 0 0]\n",
            " [0 0 1 0 0 0 0 0 0 0]\n",
            " [0 0 0 0 0 0 0 0 0 0]\n",
            " [0 0 0 0 0 1 1 0 0 0]\n",
            " [0 0 0 0 0 1 1 0 0 0]\n",
            " [0 0 0 0 0 0 0 1 1 0]\n",
            " [0 0 0 0 0 0 0 1 1 0]\n",
            " [0 0 0 0 0 0 0 0 0 0]]\n",
            "\n",
            "Step 5:\n",
            "[[0 0 0 0 0 0 0 0 0 0]\n",
            " [0 0 0 0 0 0 0 0 0 0]\n",
            " [0 1 1 1 0 0 0 0 0 0]\n",
            " [0 0 0 0 0 0 0 0 0 0]\n",
            " [0 0 0 0 0 0 0 0 0 0]\n",
            " [0 0 0 0 0 1 1 0 0 0]\n",
            " [0 0 0 0 0 1 0 0 0 0]\n",
            " [0 0 0 0 0 0 0 0 1 0]\n",
            " [0 0 0 0 0 0 0 1 1 0]\n",
            " [0 0 0 0 0 0 0 0 0 0]]\n",
            "\n",
            "Step 6:\n",
            "[[0 0 0 0 0 0 0 0 0 0]\n",
            " [0 0 1 0 0 0 0 0 0 0]\n",
            " [0 0 1 0 0 0 0 0 0 0]\n",
            " [0 0 1 0 0 0 0 0 0 0]\n",
            " [0 0 0 0 0 0 0 0 0 0]\n",
            " [0 0 0 0 0 1 1 0 0 0]\n",
            " [0 0 0 0 0 1 1 0 0 0]\n",
            " [0 0 0 0 0 0 0 1 1 0]\n",
            " [0 0 0 0 0 0 0 1 1 0]\n",
            " [0 0 0 0 0 0 0 0 0 0]]\n",
            "\n",
            "Step 7:\n",
            "[[0 0 0 0 0 0 0 0 0 0]\n",
            " [0 0 0 0 0 0 0 0 0 0]\n",
            " [0 1 1 1 0 0 0 0 0 0]\n",
            " [0 0 0 0 0 0 0 0 0 0]\n",
            " [0 0 0 0 0 0 0 0 0 0]\n",
            " [0 0 0 0 0 1 1 0 0 0]\n",
            " [0 0 0 0 0 1 0 0 0 0]\n",
            " [0 0 0 0 0 0 0 0 1 0]\n",
            " [0 0 0 0 0 0 0 1 1 0]\n",
            " [0 0 0 0 0 0 0 0 0 0]]\n",
            "\n",
            "Step 8:\n",
            "[[0 0 0 0 0 0 0 0 0 0]\n",
            " [0 0 1 0 0 0 0 0 0 0]\n",
            " [0 0 1 0 0 0 0 0 0 0]\n",
            " [0 0 1 0 0 0 0 0 0 0]\n",
            " [0 0 0 0 0 0 0 0 0 0]\n",
            " [0 0 0 0 0 1 1 0 0 0]\n",
            " [0 0 0 0 0 1 1 0 0 0]\n",
            " [0 0 0 0 0 0 0 1 1 0]\n",
            " [0 0 0 0 0 0 0 1 1 0]\n",
            " [0 0 0 0 0 0 0 0 0 0]]\n",
            "\n",
            "Step 9:\n",
            "[[0 0 0 0 0 0 0 0 0 0]\n",
            " [0 0 0 0 0 0 0 0 0 0]\n",
            " [0 1 1 1 0 0 0 0 0 0]\n",
            " [0 0 0 0 0 0 0 0 0 0]\n",
            " [0 0 0 0 0 0 0 0 0 0]\n",
            " [0 0 0 0 0 1 1 0 0 0]\n",
            " [0 0 0 0 0 1 0 0 0 0]\n",
            " [0 0 0 0 0 0 0 0 1 0]\n",
            " [0 0 0 0 0 0 0 1 1 0]\n",
            " [0 0 0 0 0 0 0 0 0 0]]\n",
            "\n",
            "Step 10:\n",
            "[[0 0 0 0 0 0 0 0 0 0]\n",
            " [0 0 1 0 0 0 0 0 0 0]\n",
            " [0 0 1 0 0 0 0 0 0 0]\n",
            " [0 0 1 0 0 0 0 0 0 0]\n",
            " [0 0 0 0 0 0 0 0 0 0]\n",
            " [0 0 0 0 0 1 1 0 0 0]\n",
            " [0 0 0 0 0 1 1 0 0 0]\n",
            " [0 0 0 0 0 0 0 1 1 0]\n",
            " [0 0 0 0 0 0 0 1 1 0]\n",
            " [0 0 0 0 0 0 0 0 0 0]]\n",
            "\n"
          ]
        }
      ],
      "source": [
        "# Ex. 3 code for your experiment here\n",
        "# Initialize BetterLife2D object\n",
        "life = BetterLife2D(n_rows=10, n_cols=10)\n",
        "\n",
        "# Load patterns into the BetterLife2D object\n",
        "life.load_pattern(1, 1, blinker_array)\n",
        "life.load_pattern(5, 5, beacon_array)\n",
        "\n",
        "# Perform multiple steps to observe pattern interactions\n",
        "num_steps = 10\n",
        "for step in range(num_steps):\n",
        "    life.step()\n",
        "    print(f\"Step {step + 1}:\")\n",
        "    print(life.state)\n",
        "    print()"
      ],
      "metadata": {
        "pycharm": {
          "name": "#%%\n"
        },
        "ExecuteTime": {
          "end_time": "2024-01-06T00:59:32.392005Z",
          "start_time": "2024-01-06T00:59:32.389848Z"
        },
        "id": "Rs-olANsFfOu",
        "colab": {
          "base_uri": "https://localhost:8080/"
        },
        "outputId": "c83e857f-88cb-4ac1-c609-657694c77789"
      }
    }
  ],
  "metadata": {
    "kernelspec": {
      "display_name": "Python 3",
      "language": "python",
      "name": "python3"
    },
    "language_info": {
      "codemirror_mode": {
        "name": "ipython",
        "version": 2
      },
      "file_extension": ".py",
      "mimetype": "text/x-python",
      "name": "python",
      "nbconvert_exporter": "python",
      "pygments_lexer": "ipython2",
      "version": "2.7.6"
    },
    "colab": {
      "provenance": [],
      "include_colab_link": true
    }
  },
  "nbformat": 4,
  "nbformat_minor": 0
}